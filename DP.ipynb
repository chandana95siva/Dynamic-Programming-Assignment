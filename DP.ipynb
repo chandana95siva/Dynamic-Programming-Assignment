{
  "nbformat": 4,
  "nbformat_minor": 0,
  "metadata": {
    "colab": {
      "private_outputs": true,
      "provenance": []
    },
    "kernelspec": {
      "name": "python3",
      "display_name": "Python 3"
    },
    "language_info": {
      "name": "python"
    }
  },
  "cells": [
    {
      "cell_type": "code",
      "source": [
        "# question 1:\n",
        "def CoinChange(coins, amount):\n",
        "  dp = [amount + 1] * (amount + 1)\n",
        "  dp[0] = 0\n",
        "  for coin in coins:\n",
        "    for i in range(coin, amount + 1):\n",
        "      dp[i] = min(dp[i], dp[i - coin] + 1)\n",
        "  if dp[amount]<= amount:\n",
        "    return dp[amount]\n",
        "  else:\n",
        "    return -1\n",
        "coins = list(map(int,input().split(' ')))\n",
        "amount = int(input())\n",
        "result = CoinChange(coins, amount)\n",
        "print(result)"
      ],
      "metadata": {
        "id": "SK97TtCtDHYE"
      },
      "execution_count": null,
      "outputs": []
    },
    {
      "cell_type": "code",
      "source": [
        "# question 2:\n",
        "def longest_palindrome(s):\n",
        "  if len(s) < 1:\n",
        "    return \"\"\n",
        "    start = 0\n",
        "    end = 0\n",
        "    for i in range(len(s)):\n",
        "      len1 = expand_around_center(s, i, i)\n",
        "      len2 = expand_around_center(s, i, i + 1)\n",
        "      max_len = max(len1, len2)\n",
        "      if max_len > end - start:\n",
        "        start = i - (max_len - 1) // 2\n",
        "        end = i + max_len // 2\n",
        "    return s[start:end + 1]\n",
        "\n",
        "def expand_around_center(s, left, right):\n",
        "  L = left\n",
        "  R = right\n",
        "  while L >= 0 and R < len(s) and s[L] == s[R]:\n",
        "    L -= 1\n",
        "    R += 1\n",
        "  return R - L - 1\n",
        "\n",
        "\n",
        "s = 'babad'\n",
        "result = longest_palindrome(s)\n",
        "print(result)"
      ],
      "metadata": {
        "id": "EngOwDRYIffK"
      },
      "execution_count": null,
      "outputs": []
    },
    {
      "cell_type": "code",
      "source": [
        "# question 3:\n",
        "def maxRepeating(sequence, word):\n",
        "  count = 0\n",
        "  k = 1\n",
        "  while word * k in sequence:\n",
        "    count += 1\n",
        "    k += 1\n",
        "  return count\n",
        "\n",
        "sequence = input()\n",
        "word = input()\n",
        "result = maxRepeating(sequence, word)\n",
        "print(result)"
      ],
      "metadata": {
        "id": "P8HhBWYFK8yM"
      },
      "execution_count": null,
      "outputs": []
    },
    {
      "cell_type": "code",
      "source": [
        "# question 5:\n",
        "def climbStairs(n):\n",
        "  if n == 1:\n",
        "    return 1\n",
        "  elif n == 2:\n",
        "    return 2\n",
        "  dp = [0] * (n + 1)\n",
        "  dp[1] = 1\n",
        "  dp[2] = 2\n",
        "  for i in range(3, n + 1):\n",
        "    dp[i] = dp[i - 1] + dp[i - 2]\n",
        "  return dp[n]\n",
        "\n",
        "n = int(input())\n",
        "result = climbStairs(n)\n",
        "print(result)"
      ],
      "metadata": {
        "id": "z4mROMfNM9rL"
      },
      "execution_count": null,
      "outputs": []
    }
  ]
}