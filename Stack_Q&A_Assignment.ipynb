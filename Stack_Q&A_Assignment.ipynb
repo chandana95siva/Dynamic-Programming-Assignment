{
  "nbformat": 4,
  "nbformat_minor": 0,
  "metadata": {
    "colab": {
      "provenance": []
    },
    "kernelspec": {
      "name": "python3",
      "display_name": "Python 3"
    },
    "language_info": {
      "name": "python"
    }
  },
  "cells": [
    {
      "cell_type": "code",
      "source": [
        "class_MinStack:\n",
        "def __init__(self):\n",
        "      self.stack = []\n",
        "      self.min_stack = []\n",
        "\n",
        "def push(self, x):\n",
        "    self.stack.append(x)\n",
        "    if not self.min_stack or x <= self.min_stack[-1]:\n",
        "      self.min_stack.append(x)\n",
        "\n",
        "def pop(self):\n",
        "    if self.stack.pop() == self.min_stack[-1]:\n",
        "      self.min_stack.pop()\n",
        "\n",
        "def top(self):\n",
        "    return self.stack[-1]\n",
        "\n",
        "def getMin(self):\n",
        "    return self.min_stack[-1]\n",
        "    min_stack = MinStack()\n",
        "input = list(map(int, input().split()))\n",
        "for num in input:\n",
        "  min_stack.push(num)\n",
        "print(min_stack.getMin())\n",
        "\n",
        "min_stack.pop()\n",
        "print(min_stack.top())\n",
        "print(min_stack.getMin())\n",
        "\n"
      ],
      "metadata": {
        "id": "pFAh8PMjwvwa"
      },
      "execution_count": null,
      "outputs": []
    },
    {
      "cell_type": "code",
      "source": [
        "def daily_temperature(T):\n",
        "  stack = []\n",
        "  result = [0]*len(T)\n",
        "  for i in range(len(T)):\n",
        "    while stack and T[i]> T[stack[-1]]:\n",
        "      prev_index = stack.pop()\n",
        "      result[prev_index] = i- prev_index\n",
        "    stack.append(i)\n",
        "  return result\n",
        "\n",
        "temperatures = input().split()\n",
        "temperatures = [int(temp)for temp in temperatures]\n",
        "result =  daily_temperature(temperatures)\n",
        "print(result)"
      ],
      "metadata": {
        "id": "cej0VZZ1PPZC",
        "colab": {
          "base_uri": "https://localhost:8080/"
        },
        "outputId": "fec10f99-e2db-40af-9dab-c887e57099f3"
      },
      "execution_count": 7,
      "outputs": [
        {
          "output_type": "stream",
          "name": "stdout",
          "text": [
            "73 74 75 71 69 72 76 73\n",
            "[1, 1, 4, 2, 1, 1, 0, 0]\n"
          ]
        }
      ]
    }
  ]
}